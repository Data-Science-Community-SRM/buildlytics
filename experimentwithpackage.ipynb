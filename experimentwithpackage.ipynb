{
 "cells": [
  {
   "cell_type": "code",
   "execution_count": 27,
   "metadata": {},
   "outputs": [
    {
     "name": "stdout",
     "output_type": "stream",
     "text": [
      "Collecting buildlytics\n",
      "  Downloading buildlytics-0.1.2.tar.gz (8.1 kB)\n",
      "Requirement already satisfied: numpy in /home/akshat/anaconda3/lib/python3.7/site-packages (from buildlytics) (1.16.0)\n",
      "Requirement already satisfied: pandas in /home/akshat/anaconda3/lib/python3.7/site-packages (from buildlytics) (1.0.5)\n",
      "Requirement already satisfied: seaborn in /home/akshat/anaconda3/lib/python3.7/site-packages (from buildlytics) (0.10.1)\n",
      "Requirement already satisfied: python-dateutil>=2.6.1 in /home/akshat/anaconda3/lib/python3.7/site-packages (from pandas->buildlytics) (2.8.1)\n",
      "Requirement already satisfied: pytz>=2017.2 in /home/akshat/anaconda3/lib/python3.7/site-packages (from pandas->buildlytics) (2020.1)\n",
      "Requirement already satisfied: matplotlib>=2.1.2 in /home/akshat/anaconda3/lib/python3.7/site-packages (from seaborn->buildlytics) (3.2.2)\n",
      "Requirement already satisfied: scipy>=1.0.1 in /home/akshat/anaconda3/lib/python3.7/site-packages (from seaborn->buildlytics) (1.4.1)\n",
      "Requirement already satisfied: six>=1.5 in /home/akshat/anaconda3/lib/python3.7/site-packages (from python-dateutil>=2.6.1->pandas->buildlytics) (1.15.0)\n",
      "Requirement already satisfied: pyparsing!=2.0.4,!=2.1.2,!=2.1.6,>=2.0.1 in /home/akshat/anaconda3/lib/python3.7/site-packages (from matplotlib>=2.1.2->seaborn->buildlytics) (2.4.7)\n",
      "Requirement already satisfied: cycler>=0.10 in /home/akshat/anaconda3/lib/python3.7/site-packages (from matplotlib>=2.1.2->seaborn->buildlytics) (0.10.0)\n",
      "Requirement already satisfied: kiwisolver>=1.0.1 in /home/akshat/anaconda3/lib/python3.7/site-packages (from matplotlib>=2.1.2->seaborn->buildlytics) (1.2.0)\n",
      "Building wheels for collected packages: buildlytics\n",
      "  Building wheel for buildlytics (setup.py) ... \u001b[?25ldone\n",
      "\u001b[?25h  Created wheel for buildlytics: filename=buildlytics-0.1.2-py3-none-any.whl size=8567 sha256=a3354ecb5e1f4e87b44e62a8d59fefb46f930eae7c76a6024ce426af643308f8\n",
      "  Stored in directory: /home/akshat/.cache/pip/wheels/51/a3/4b/bf464838d6c96e5824829c8b28195d2bb85ad1806891dcc299\n",
      "Successfully built buildlytics\n",
      "Installing collected packages: buildlytics\n",
      "Successfully installed buildlytics-0.1.2\n"
     ]
    }
   ],
   "source": [
    "!pip install buildlytics"
   ]
  },
  {
   "cell_type": "code",
   "execution_count": 16,
   "metadata": {},
   "outputs": [],
   "source": [
    "import pandas as pd"
   ]
  },
  {
   "cell_type": "code",
   "execution_count": 17,
   "metadata": {},
   "outputs": [
    {
     "data": {
      "text/html": [
       "<div>\n",
       "<style scoped>\n",
       "    .dataframe tbody tr th:only-of-type {\n",
       "        vertical-align: middle;\n",
       "    }\n",
       "\n",
       "    .dataframe tbody tr th {\n",
       "        vertical-align: top;\n",
       "    }\n",
       "\n",
       "    .dataframe thead th {\n",
       "        text-align: right;\n",
       "    }\n",
       "</style>\n",
       "<table border=\"1\" class=\"dataframe\">\n",
       "  <thead>\n",
       "    <tr style=\"text-align: right;\">\n",
       "      <th></th>\n",
       "      <th>Temperature (K)</th>\n",
       "      <th>Luminosity(L/Lo)</th>\n",
       "      <th>Radius(R/Ro)</th>\n",
       "      <th>Absolute magnitude(Mv)</th>\n",
       "      <th>Star type</th>\n",
       "      <th>Star color</th>\n",
       "      <th>Spectral Class</th>\n",
       "    </tr>\n",
       "  </thead>\n",
       "  <tbody>\n",
       "    <tr>\n",
       "      <th>0</th>\n",
       "      <td>3068</td>\n",
       "      <td>0.002400</td>\n",
       "      <td>0.1700</td>\n",
       "      <td>16.12</td>\n",
       "      <td>0</td>\n",
       "      <td>Red</td>\n",
       "      <td>M</td>\n",
       "    </tr>\n",
       "    <tr>\n",
       "      <th>1</th>\n",
       "      <td>3042</td>\n",
       "      <td>0.000500</td>\n",
       "      <td>0.1542</td>\n",
       "      <td>16.60</td>\n",
       "      <td>0</td>\n",
       "      <td>Red</td>\n",
       "      <td>M</td>\n",
       "    </tr>\n",
       "    <tr>\n",
       "      <th>2</th>\n",
       "      <td>2600</td>\n",
       "      <td>0.000300</td>\n",
       "      <td>0.1020</td>\n",
       "      <td>18.70</td>\n",
       "      <td>0</td>\n",
       "      <td>Red</td>\n",
       "      <td>M</td>\n",
       "    </tr>\n",
       "    <tr>\n",
       "      <th>3</th>\n",
       "      <td>2800</td>\n",
       "      <td>0.000200</td>\n",
       "      <td>0.1600</td>\n",
       "      <td>16.65</td>\n",
       "      <td>0</td>\n",
       "      <td>Red</td>\n",
       "      <td>M</td>\n",
       "    </tr>\n",
       "    <tr>\n",
       "      <th>4</th>\n",
       "      <td>1939</td>\n",
       "      <td>0.000138</td>\n",
       "      <td>0.1030</td>\n",
       "      <td>20.06</td>\n",
       "      <td>0</td>\n",
       "      <td>Red</td>\n",
       "      <td>M</td>\n",
       "    </tr>\n",
       "  </tbody>\n",
       "</table>\n",
       "</div>"
      ],
      "text/plain": [
       "   Temperature (K)  Luminosity(L/Lo)  Radius(R/Ro)  Absolute magnitude(Mv)  \\\n",
       "0             3068          0.002400        0.1700                   16.12   \n",
       "1             3042          0.000500        0.1542                   16.60   \n",
       "2             2600          0.000300        0.1020                   18.70   \n",
       "3             2800          0.000200        0.1600                   16.65   \n",
       "4             1939          0.000138        0.1030                   20.06   \n",
       "\n",
       "   Star type Star color Spectral Class  \n",
       "0          0        Red              M  \n",
       "1          0        Red              M  \n",
       "2          0        Red              M  \n",
       "3          0        Red              M  \n",
       "4          0        Red              M  "
      ]
     },
     "execution_count": 17,
     "metadata": {},
     "output_type": "execute_result"
    }
   ],
   "source": [
    "df=pd.read_csv(\"stars.csv\")\n",
    "df.head()"
   ]
  },
  {
   "cell_type": "code",
   "execution_count": 28,
   "metadata": {},
   "outputs": [],
   "source": [
    "from eda import DataFrameSummary\n",
    "\n",
    "dfs = DataFrameSummary(df)"
   ]
  },
  {
   "cell_type": "code",
   "execution_count": 29,
   "metadata": {},
   "outputs": [
    {
     "data": {
      "text/plain": [
       "numeric        5\n",
       "categorical    2\n",
       "Name: types, dtype: int64"
      ]
     },
     "execution_count": 29,
     "metadata": {},
     "output_type": "execute_result"
    }
   ],
   "source": [
    "dfs.columns_types"
   ]
  },
  {
   "cell_type": "code",
   "execution_count": 30,
   "metadata": {},
   "outputs": [
    {
     "data": {
      "text/html": [
       "<div>\n",
       "<style scoped>\n",
       "    .dataframe tbody tr th:only-of-type {\n",
       "        vertical-align: middle;\n",
       "    }\n",
       "\n",
       "    .dataframe tbody tr th {\n",
       "        vertical-align: top;\n",
       "    }\n",
       "\n",
       "    .dataframe thead th {\n",
       "        text-align: right;\n",
       "    }\n",
       "</style>\n",
       "<table border=\"1\" class=\"dataframe\">\n",
       "  <thead>\n",
       "    <tr style=\"text-align: right;\">\n",
       "      <th></th>\n",
       "      <th>Temperature (K)</th>\n",
       "      <th>Luminosity(L/Lo)</th>\n",
       "      <th>Radius(R/Ro)</th>\n",
       "      <th>Absolute magnitude(Mv)</th>\n",
       "      <th>Star type</th>\n",
       "      <th>Star color</th>\n",
       "      <th>Spectral Class</th>\n",
       "    </tr>\n",
       "  </thead>\n",
       "  <tbody>\n",
       "    <tr>\n",
       "      <th>counts</th>\n",
       "      <td>240</td>\n",
       "      <td>240</td>\n",
       "      <td>240</td>\n",
       "      <td>240</td>\n",
       "      <td>240</td>\n",
       "      <td>240</td>\n",
       "      <td>240</td>\n",
       "    </tr>\n",
       "    <tr>\n",
       "      <th>uniques</th>\n",
       "      <td>228</td>\n",
       "      <td>208</td>\n",
       "      <td>216</td>\n",
       "      <td>228</td>\n",
       "      <td>6</td>\n",
       "      <td>19</td>\n",
       "      <td>7</td>\n",
       "    </tr>\n",
       "    <tr>\n",
       "      <th>missing</th>\n",
       "      <td>0</td>\n",
       "      <td>0</td>\n",
       "      <td>0</td>\n",
       "      <td>0</td>\n",
       "      <td>0</td>\n",
       "      <td>0</td>\n",
       "      <td>0</td>\n",
       "    </tr>\n",
       "    <tr>\n",
       "      <th>missing_perc</th>\n",
       "      <td>0%</td>\n",
       "      <td>0%</td>\n",
       "      <td>0%</td>\n",
       "      <td>0%</td>\n",
       "      <td>0%</td>\n",
       "      <td>0%</td>\n",
       "      <td>0%</td>\n",
       "    </tr>\n",
       "    <tr>\n",
       "      <th>types</th>\n",
       "      <td>numeric</td>\n",
       "      <td>numeric</td>\n",
       "      <td>numeric</td>\n",
       "      <td>numeric</td>\n",
       "      <td>numeric</td>\n",
       "      <td>categorical</td>\n",
       "      <td>categorical</td>\n",
       "    </tr>\n",
       "  </tbody>\n",
       "</table>\n",
       "</div>"
      ],
      "text/plain": [
       "             Temperature (K) Luminosity(L/Lo) Radius(R/Ro)  \\\n",
       "counts                   240              240          240   \n",
       "uniques                  228              208          216   \n",
       "missing                    0                0            0   \n",
       "missing_perc              0%               0%           0%   \n",
       "types                numeric          numeric      numeric   \n",
       "\n",
       "             Absolute magnitude(Mv) Star type   Star color Spectral Class  \n",
       "counts                          240       240          240            240  \n",
       "uniques                         228         6           19              7  \n",
       "missing                           0         0            0              0  \n",
       "missing_perc                     0%        0%           0%             0%  \n",
       "types                       numeric   numeric  categorical    categorical  "
      ]
     },
     "execution_count": 30,
     "metadata": {},
     "output_type": "execute_result"
    }
   ],
   "source": [
    "dfs.columns_stats"
   ]
  },
  {
   "cell_type": "code",
   "execution_count": 31,
   "metadata": {},
   "outputs": [
    {
     "data": {
      "text/plain": [
       "mean                            10497.5\n",
       "std                             9552.43\n",
       "variance                    9.12488e+07\n",
       "min                                1939\n",
       "max                               40000\n",
       "mode                               3600\n",
       "5%                              2799.95\n",
       "25%                             3344.25\n",
       "50%                                5776\n",
       "75%                             15055.5\n",
       "95%                             32461.4\n",
       "iqr                             11711.2\n",
       "kurtosis                       0.877352\n",
       "skewness                        1.32157\n",
       "sum                             2519391\n",
       "mad                             7707.77\n",
       "cv                             0.909975\n",
       "zeros_num                             0\n",
       "zeros_perc                           0%\n",
       "deviating_of_mean                     1\n",
       "deviating_of_mean_perc            0.42%\n",
       "deviating_of_median                  16\n",
       "deviating_of_median_perc          6.67%\n",
       "top_correlations                       \n",
       "counts                              240\n",
       "uniques                             228\n",
       "missing                               0\n",
       "missing_perc                         0%\n",
       "types                           numeric\n",
       "Name: Temperature (K), dtype: object"
      ]
     },
     "execution_count": 31,
     "metadata": {},
     "output_type": "execute_result"
    }
   ],
   "source": [
    "dfs['Temperature (K)']"
   ]
  },
  {
   "cell_type": "code",
   "execution_count": 32,
   "metadata": {},
   "outputs": [
    {
     "data": {
      "text/plain": [
       "top                  M: 111\n",
       "counts                  240\n",
       "uniques                   7\n",
       "missing                   0\n",
       "missing_perc             0%\n",
       "types           categorical\n",
       "Name: Spectral Class, dtype: object"
      ]
     },
     "execution_count": 32,
     "metadata": {},
     "output_type": "execute_result"
    }
   ],
   "source": [
    "dfs['Spectral Class']"
   ]
  },
  {
   "cell_type": "code",
   "execution_count": 36,
   "metadata": {},
   "outputs": [
    {
     "data": {
      "text/plain": [
       "<Figure size 2160x720 with 0 Axes>"
      ]
     },
     "metadata": {},
     "output_type": "display_data"
    },
    {
     "data": {
      "text/plain": [
       "<matplotlib.axes._subplots.AxesSubplot at 0x7f67b4477810>"
      ]
     },
     "execution_count": 36,
     "metadata": {},
     "output_type": "execute_result"
    },
    {
     "data": {
      "image/png": "[encoded data removed]",
      "text/plain": [
       "<Figure size 432x288 with 2 Axes>"
      ]
     },
     "metadata": {
      "needs_background": "light"
     },
     "output_type": "display_data"
    }
   ],
   "source": [
    "heatmap = DataFrameSummary(df)\n",
    "heatmap._get_heatmap(df)"
   ]
  },
  {
   "cell_type": "code",
   "execution_count": null,
   "metadata": {},
   "outputs": [],
   "source": []
  }
 ],
 "metadata": {
  "kernelspec": {
   "display_name": "Python 3",
   "language": "python",
   "name": "python3"
  },
  "language_info": {
   "codemirror_mode": {
    "name": "ipython",
    "version": 3
   },
   "file_extension": ".py",
   "mimetype": "text/x-python",
   "name": "python",
   "nbconvert_exporter": "python",
   "pygments_lexer": "ipython3",
   "version": "3.7.7"
  }
 },
 "nbformat": 4,
 "nbformat_minor": 4
}
